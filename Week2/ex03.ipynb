{
 "cells": [
  {
   "cell_type": "code",
   "execution_count": 1,
   "id": "0ef89416",
   "metadata": {},
   "outputs": [
    {
     "name": "stderr",
     "output_type": "stream",
     "text": [
      "Using Spark's default log4j profile: org/apache/spark/log4j-defaults.properties\n",
      "Setting default log level to \"WARN\".\n",
      "To adjust logging level use sc.setLogLevel(newLevel). For SparkR, use setLogLevel(newLevel).\n",
      "21/10/27 08:59:17 WARN NativeCodeLoader: Unable to load native-hadoop library for your platform... using builtin-java classes where applicable\n",
      "21/10/27 08:59:18 WARN Utils: Service 'SparkUI' could not bind on port 4040. Attempting port 4041.\n"
     ]
    }
   ],
   "source": [
    "import pyspark\n",
    "import os\n",
    "\n",
    "conf = pyspark.SparkConf().set(\"spark.driver.host\", \"localhost\")\n",
    "sc = pyspark.SparkContext(appName=\"ex03\", conf=conf)\n",
    "sc.setLogLevel('OFF')"
   ]
  },
  {
   "cell_type": "code",
   "execution_count": 2,
   "id": "22e410ff",
   "metadata": {},
   "outputs": [
    {
     "name": "stderr",
     "output_type": "stream",
     "text": [
      "                                                                                \r"
     ]
    }
   ],
   "source": [
    "input_rdd = sc.textFile(\"../data/SF_business/supervisor_sf.tsv\", 8)\n",
    "zip_id = input_rdd.map(lambda x: x.split('\\t')).map(lambda x: [int(x[0]), int(x[1])])\n",
    "distinct_zip = zip_id.filter(lambda x: x[1] == 9 or x[1] == 10)\\\n",
    "                     .map(lambda x: x[0])\\\n",
    "                     .distinct()\n",
    "ordered_distinct_zip = distinct_zip.sortBy(lambda x: x, ascending=False)"
   ]
  },
  {
   "cell_type": "code",
   "execution_count": 3,
   "id": "5a59e002",
   "metadata": {},
   "outputs": [],
   "source": [
    "zip_id_2 = sc.parallelize([94103, 94105, 94107])"
   ]
  },
  {
   "cell_type": "code",
   "execution_count": 4,
   "id": "2ac34b52",
   "metadata": {},
   "outputs": [
    {
     "data": {
      "text/plain": [
       "[94103, 94105, 94107, 94158, 94134, 94124, 94112, 94110, 94107, 94103]"
      ]
     },
     "execution_count": 4,
     "metadata": {},
     "output_type": "execute_result"
    }
   ],
   "source": [
    "union_zip = zip_id_2.union(ordered_distinct_zip)\n",
    "union_zip.collect()"
   ]
  },
  {
   "cell_type": "code",
   "execution_count": 5,
   "id": "6c580b7f",
   "metadata": {},
   "outputs": [
    {
     "data": {
      "text/plain": [
       "[94107, 94103]"
      ]
     },
     "execution_count": 5,
     "metadata": {},
     "output_type": "execute_result"
    }
   ],
   "source": [
    "intersection_zip = zip_id_2.intersection(ordered_distinct_zip)\n",
    "intersection_zip.collect()"
   ]
  },
  {
   "cell_type": "code",
   "execution_count": 6,
   "id": "a5079046",
   "metadata": {},
   "outputs": [
    {
     "data": {
      "text/plain": [
       "[94105]"
      ]
     },
     "execution_count": 6,
     "metadata": {},
     "output_type": "execute_result"
    }
   ],
   "source": [
    "subtract_zip = zip_id_2.subtract(ordered_distinct_zip)\n",
    "subtract_zip.collect()"
   ]
  },
  {
   "cell_type": "code",
   "execution_count": 7,
   "id": "229c9236",
   "metadata": {},
   "outputs": [
    {
     "data": {
      "text/plain": [
       "[(94103, 94158),\n",
       " (94103, 94134),\n",
       " (94103, 94124),\n",
       " (94103, 94112),\n",
       " (94103, 94110),\n",
       " (94103, 94107),\n",
       " (94103, 94103),\n",
       " (94105, 94158),\n",
       " (94105, 94134),\n",
       " (94105, 94124),\n",
       " (94105, 94112),\n",
       " (94105, 94110),\n",
       " (94105, 94107),\n",
       " (94105, 94103),\n",
       " (94107, 94158),\n",
       " (94107, 94134),\n",
       " (94107, 94124),\n",
       " (94107, 94112),\n",
       " (94107, 94110),\n",
       " (94107, 94107),\n",
       " (94107, 94103)]"
      ]
     },
     "execution_count": 7,
     "metadata": {},
     "output_type": "execute_result"
    }
   ],
   "source": [
    "cartesian_zip = zip_id_2.cartesian(ordered_distinct_zip)\n",
    "cartesian_zip.collect()"
   ]
  },
  {
   "cell_type": "code",
   "execution_count": 8,
   "id": "3c435ac9",
   "metadata": {},
   "outputs": [],
   "source": [
    "sc.stop()"
   ]
  },
  {
   "cell_type": "code",
   "execution_count": null,
   "id": "667537ca",
   "metadata": {},
   "outputs": [],
   "source": []
  }
 ],
 "metadata": {
  "kernelspec": {
   "display_name": "Python 3 (ipykernel)",
   "language": "python",
   "name": "python3"
  },
  "language_info": {
   "codemirror_mode": {
    "name": "ipython",
    "version": 3
   },
   "file_extension": ".py",
   "mimetype": "text/x-python",
   "name": "python",
   "nbconvert_exporter": "python",
   "pygments_lexer": "ipython3",
   "version": "3.7.11"
  },
  "varInspector": {
   "cols": {
    "lenName": 16,
    "lenType": 16,
    "lenVar": 40
   },
   "kernels_config": {
    "python": {
     "delete_cmd_postfix": "",
     "delete_cmd_prefix": "del ",
     "library": "var_list.py",
     "varRefreshCmd": "print(var_dic_list())"
    },
    "r": {
     "delete_cmd_postfix": ") ",
     "delete_cmd_prefix": "rm(",
     "library": "var_list.r",
     "varRefreshCmd": "cat(var_dic_list()) "
    }
   },
   "types_to_exclude": [
    "module",
    "function",
    "builtin_function_or_method",
    "instance",
    "_Feature"
   ],
   "window_display": false
  }
 },
 "nbformat": 4,
 "nbformat_minor": 5
}
